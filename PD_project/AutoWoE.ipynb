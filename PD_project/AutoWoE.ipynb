{
 "cells": [
  {
   "cell_type": "code",
   "execution_count": 1,
   "id": "7698be04",
   "metadata": {},
   "outputs": [],
   "source": [
    "import pandas as pd\n",
    "import numpy as np\n",
    "import lightgbm as lgb\n",
    "\n",
    "from collections import OrderedDict\n",
    "from sklearn.metrics import roc_auc_score\n",
    "from tqdm import tqdm\n",
    "from copy import deepcopy\n",
    "\n",
    "from autowoe import ReportDeco, AutoWoE"
   ]
  },
  {
   "cell_type": "code",
   "execution_count": 33,
   "id": "ead01fd3",
   "metadata": {},
   "outputs": [
    {
     "data": {
      "text/plain": [
       "(1120472, 25)"
      ]
     },
     "execution_count": 33,
     "metadata": {},
     "output_type": "execute_result"
    }
   ],
   "source": [
    "train = pd.read_csv('train.csv')\n",
    "test = pd.read_csv('test.csv')\n",
    "train.shape"
   ]
  },
  {
   "cell_type": "code",
   "execution_count": 47,
   "id": "66d85b35",
   "metadata": {},
   "outputs": [],
   "source": [
    "cat_col = [col for col in train.drop('loan_status', axis=1).columns if train[col].dtype == 'int64']\n",
    "num_col = [col for col in train.columns if train[col].dtype == 'float64']"
   ]
  },
  {
   "cell_type": "code",
   "execution_count": 48,
   "id": "408356a6",
   "metadata": {},
   "outputs": [],
   "source": [
    "features = cat_col + num_col"
   ]
  },
  {
   "cell_type": "code",
   "execution_count": 49,
   "id": "0d64c2e0",
   "metadata": {},
   "outputs": [],
   "source": [
    "num_feature_type = {x: \"real\" for x in num_col}\n",
    "cat_feature_type = {x: \"cat\" for x in cat_col}"
   ]
  },
  {
   "cell_type": "code",
   "execution_count": 50,
   "id": "343a6e16",
   "metadata": {},
   "outputs": [],
   "source": [
    "features_type = dict(**num_feature_type, **cat_feature_type)"
   ]
  },
  {
   "cell_type": "code",
   "execution_count": 51,
   "id": "3a1d8442",
   "metadata": {},
   "outputs": [],
   "source": [
    "auto_woe = AutoWoE(interpreted_model=True, monotonic=False, max_bin_count=5, select_type=None, \n",
    "                   pearson_th=0.9, auc_th=.505, vif_th=10., imp_th=0, th_const=32, \n",
    "                   force_single_split=True, \n",
    "                   th_nan=0.01, th_cat=0.005, woe_diff_th=0.01, \n",
    "                   min_bin_size=0.01, min_bin_mults=(2, 4), min_gains_to_split=(0.0, 0.5, 1.0), \n",
    "                   auc_tol=1e-4, cat_alpha=100, \n",
    "                   cat_merge_to=\"to_woe_0\", \n",
    "                   nan_merge_to=\"to_woe_0\", \n",
    "                   oof_woe=True, n_folds=6, n_jobs=6, l1_grid_size=20, l1_exp_scale=6, \n",
    "                   imp_type=\"feature_imp\", regularized_refit=False, p_val=0.05, debug=False, \n",
    "                   verbose=0\n",
    "        )\n",
    "\n",
    "auto_woe = ReportDeco(auto_woe)"
   ]
  },
  {
   "cell_type": "code",
   "execution_count": 52,
   "id": "0352d176",
   "metadata": {
    "scrolled": true
   },
   "outputs": [],
   "source": [
    "auto_woe.fit(train[features + [\"loan_status\"]], \n",
    "             target_name=\"loan_status\",\n",
    "             features_type=features_type,\n",
    "             group_kf=None,\n",
    "#              validation=test\n",
    "            )"
   ]
  },
  {
   "cell_type": "code",
   "execution_count": 54,
   "id": "596d1969",
   "metadata": {},
   "outputs": [],
   "source": [
    "pred = auto_woe.predict_proba(test)\n",
    "auc = roc_auc_score(test['loan_status'], pred)"
   ]
  },
  {
   "cell_type": "code",
   "execution_count": 55,
   "id": "b69d1a6a",
   "metadata": {},
   "outputs": [
    {
     "name": "stdout",
     "output_type": "stream",
     "text": [
      "AutoWoE auc: 0.6987453913282243\n"
     ]
    }
   ],
   "source": [
    "print(\"AutoWoE auc: {}\".format(auc))"
   ]
  },
  {
   "cell_type": "code",
   "execution_count": 57,
   "id": "6a1411ae",
   "metadata": {
    "collapsed": true
   },
   "outputs": [
    {
     "name": "stderr",
     "output_type": "stream",
     "text": [
      "No handles with labels found to put in legend.\n",
      "No handles with labels found to put in legend.\n",
      "No handles with labels found to put in legend.\n",
      "No handles with labels found to put in legend.\n",
      "No handles with labels found to put in legend.\n",
      "No handles with labels found to put in legend.\n",
      "No handles with labels found to put in legend.\n",
      "No handles with labels found to put in legend.\n",
      "No handles with labels found to put in legend.\n",
      "No handles with labels found to put in legend.\n",
      "No handles with labels found to put in legend.\n",
      "No handles with labels found to put in legend.\n",
      "No handles with labels found to put in legend.\n"
     ]
    }
   ],
   "source": [
    "report_params = {\"output_path\": \"./AutoWoE_REPORT_1\",  #  папка, куда сгенерится отчет и сложатся нужные файлы\n",
    "                 \"report_name\": \"pilot_report\",\n",
    "                 \"report_version_id\": 1,\n",
    "                 \"city\": \"Москва\",\n",
    "                 \"model_aim\": \"___Проверка работы___\",\n",
    "                 \"model_name\": \"___AutoWoE___\",\n",
    "                 \"zakazchik\": \"___Dmitry___\",\n",
    "                 \"high_level_department\": \"___sber___\",\n",
    "                 \"ds_name\": \"___Super_Stepan___\",\n",
    "                 \"target_descr\": \"___ОПИСАНИЕ ЦЕЛЕВОГО СОБЫТИЯ___\",\n",
    "                 \"non_target_descr\": \"___ОПИСАНИЕ НЕЦЕЛЕВОГО СОБЫТИЯ___\"}\n",
    "\n",
    "auto_woe.generate_report(report_params)"
   ]
  },
  {
   "cell_type": "code",
   "execution_count": null,
   "id": "38e66e96",
   "metadata": {},
   "outputs": [],
   "source": []
  },
  {
   "cell_type": "code",
   "execution_count": null,
   "id": "f8a08b82",
   "metadata": {},
   "outputs": [],
   "source": []
  },
  {
   "cell_type": "code",
   "execution_count": null,
   "id": "f51f7bd0",
   "metadata": {},
   "outputs": [],
   "source": []
  },
  {
   "cell_type": "code",
   "execution_count": null,
   "id": "b91df398",
   "metadata": {},
   "outputs": [],
   "source": []
  },
  {
   "cell_type": "code",
   "execution_count": null,
   "id": "1fcf1b5e",
   "metadata": {},
   "outputs": [],
   "source": []
  },
  {
   "cell_type": "code",
   "execution_count": null,
   "id": "73a20a54",
   "metadata": {},
   "outputs": [],
   "source": []
  }
 ],
 "metadata": {
  "kernelspec": {
   "display_name": "Python 3",
   "language": "python",
   "name": "python3"
  },
  "language_info": {
   "codemirror_mode": {
    "name": "ipython",
    "version": 3
   },
   "file_extension": ".py",
   "mimetype": "text/x-python",
   "name": "python",
   "nbconvert_exporter": "python",
   "pygments_lexer": "ipython3",
   "version": "3.8.8"
  }
 },
 "nbformat": 4,
 "nbformat_minor": 5
}
